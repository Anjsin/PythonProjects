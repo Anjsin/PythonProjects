{
 "cells": [
  {
   "cell_type": "code",
   "execution_count": null,
   "id": "f39c22c2",
   "metadata": {},
   "outputs": [],
   "source": [
    "# <!-- #  Differentiate between List and Tuple?\n",
    "\n",
    "# List\n",
    "\n",
    "# Lists are Mutable datatype.\n",
    "# Lists consume more memory\n",
    "# The list is better for performing operations, such as insertion and deletion.\n",
    "# Implication of iterations is Time-consuming\n",
    "# Tuple\n",
    "\n",
    "# Tuples are Immutable datatype.\n",
    "# Tuple consume less memory as compared to the list\n",
    "# Tuple data type is appropriate for accessing the elements\n",
    "# Implication of iterations is comparatively Faster -->\n"
   ]
  },
  {
   "cell_type": "code",
   "execution_count": null,
   "id": "873d08ce",
   "metadata": {},
   "outputs": [],
   "source": [
    "tuple_ex=(1,2,3)"
   ]
  },
  {
   "cell_type": "code",
   "execution_count": 2,
   "id": "d91940ce",
   "metadata": {},
   "outputs": [
    {
     "name": "stdout",
     "output_type": "stream",
     "text": [
      "(1, 2, 3)\n"
     ]
    }
   ],
   "source": [
    "print(tuple_ex)"
   ]
  },
  {
   "cell_type": "code",
   "execution_count": 3,
   "id": "9ad6a680",
   "metadata": {},
   "outputs": [
    {
     "name": "stdout",
     "output_type": "stream",
     "text": [
      "Size of Tuple1: 88bytes\n",
      "Size of Tuple2: 88bytes\n",
      "Size of Tuple3: 72bytes\n"
     ]
    }
   ],
   "source": [
    "#Use of getsizeof() - sys module\n",
    "# Use : \n",
    "#it returns the total space occupied by the object in addition to the garbage collection overhead for the spaces being used.\n",
    "\n",
    "import sys\n",
    "  \n",
    "# sample Tuples\n",
    "Tuple1 = (\"A\", 1, \"B\", 2, \"C\", 3)\n",
    "Tuple2 = (\"Geek1\", \"Raju\", \"Geek2\", \"Nikhil\", \"Geek3\", \"Deepanshu\")\n",
    "Tuple3 = ((1, \"Lion\"), ( 2, \"Tiger\"), (3, \"Fox\"), (4, \"Wolf\"))\n",
    "  \n",
    "# print the sizes of sample Tuples\n",
    "print(\"Size of Tuple1: \" + str(sys.getsizeof(Tuple1)) + \"bytes\")\n",
    "print(\"Size of Tuple2: \" + str(sys.getsizeof(Tuple2)) + \"bytes\")\n",
    "print(\"Size of Tuple3: \" + str(sys.getsizeof(Tuple3)) + \"bytes\")"
   ]
  },
  {
   "cell_type": "code",
   "execution_count": 22,
   "id": "662b4933",
   "metadata": {},
   "outputs": [
    {
     "name": "stdout",
     "output_type": "stream",
     "text": [
      "Size of Tuple1 is 72bytes\n",
      "Size of Tuple2 is 104bytes\n",
      "Size of Tuple3 is 64bytes\n"
     ]
    }
   ],
   "source": [
    "#Use __Sizeof__()\n",
    "#Use: to determine the space allocation of an object without any additional garbage value.\n",
    "\n",
    "import sys\n",
    "Tuple1 = (\"A\", 1, \"B\", 2, \"C\", 3)\n",
    "Tuple2 = (\"Geek1\", \"Raju\", \"Geek2\", \"Nikhil\", \"Geek3\", \"Deepanshu\",\"Anjali\",\"Shubham\",\"Savi\",\"Jitu\")\n",
    "Tuple3 = ((1, \"Lion\"), ( 2, \"Tiger\"), (3, \"Fox\"), (4, \"Wolf\"),(5,\"Beast\"))\n",
    "#print the size of sample tuples\n",
    " \n",
    "print(\"Size of Tuple1 is \" + str(Tuple1.__sizeof__()) +\"bytes\");\n",
    "print(\"Size of Tuple2 is \" + str(Tuple2.__sizeof__()) +\"bytes\");\n",
    "print(\"Size of Tuple3 is \" + str(Tuple3.__sizeof__()) +\"bytes\");"
   ]
  },
  {
   "cell_type": "code",
   "execution_count": null,
   "id": "a0146c7b",
   "metadata": {},
   "outputs": [],
   "source": [
    "#Input : example :\n",
    "#Input --> test_tup = (3, 7, 1, 18, 9), k = 2 , k is extereme element in tuple\n",
    "#Output --> (3,1,9,18)\n",
    "\n",
    "# Python3 code to demonstrate working of\n",
    "# Maximum and Minimum K elements in Tuple\n",
    "# Using sorted() + loop\n",
    "\n",
    "#------------------------- Sorting+Loop\n",
    "\n",
    "print(\"Sorting + Loop Method \")\n",
    "test_tup=(5,20,3,7,6,8)\n",
    "print(\"Original typle is : \" + str(test_tup))\n",
    "\n",
    "#initializing k \n",
    "k=2\n",
    "\n",
    "# Maximum and Minimum K elements in Tuple\n",
    "# Using sorted() + loop\n",
    "\n",
    "res=[]\n",
    "test_tup=list(sorted(test_tup))\n",
    "print(test_tup)\n",
    "\n",
    "\n",
    "for idx, val in enumerate(test_tup):\n",
    "    if idx<k or idx>=len(test_tup)-k:\n",
    "        res.append(val)\n",
    "res=tuple(res)\n",
    "print(res)\n",
    "\n",
    "#--------------------------Slicing + Sorted  --easy\n",
    "print(\"Slicing + Sorted Method\")\n",
    "\n",
    "test_tup=(5,20,3,7,6,8)\n",
    "print(\"Original tuple is:\" +str(test_tup))\n",
    "\n",
    "#initializing k \n",
    "k=2\n",
    "\n",
    "test_tup=list(test_tup)\n",
    "temp=sorted(test_tup)\n",
    "res=tuple(temp[:k]+temp[-k:])\n",
    "print(res)\n",
    "\n"
   ]
  },
  {
   "cell_type": "code",
   "execution_count": 1,
   "id": "52503d66",
   "metadata": {},
   "outputs": [
    {
     "name": "stdout",
     "output_type": "stream",
     "text": [
      "date1:2012,01,01\n",
      "date2:2012,01,12\n",
      "335 days\n"
     ]
    }
   ],
   "source": [
    "\n",
    "\n",
    "\n",
    "# Python3 program to find number of days\n",
    "# between two given dates\n",
    "from datetime import date\n",
    "import datetime \n",
    "from dateutil import parser\n",
    " \n",
    "def numOfDays(date1, date2):\n",
    "    return (date2-date1).days\n",
    "     \n",
    "# Driver program\n",
    "\n",
    "date1 = parser.parse(input(\"date1:\"))\n",
    "date2 = parser.parse(input(\"date2:\"))\n",
    "\n",
    "print(numOfDays(date1, date2), \"days\")\n",
    "\n",
    "# #Output \n",
    "# date1:2012,01,01\n",
    "# date2:2012,01,12\n",
    "# 335 days"
   ]
  },
  {
   "cell_type": "code",
   "execution_count": 13,
   "id": "2f597f7c",
   "metadata": {},
   "outputs": [
    {
     "name": "stdout",
     "output_type": "stream",
     "text": [
      "Enter date1 in yyyy-dd-mm hh:mm:ss: 2012-01-01 01:00:00\n",
      "2012-01-01 01:00:00\n",
      "Enter date2 in yyyy-dd-mm hh:mm:ss: 2012-12-31 11:00:12\n",
      "2012-12-31 11:00:12\n",
      "365 days, 10:00:12\n"
     ]
    }
   ],
   "source": [
    "## Python | Difference between two dates (in minutes) using datetime.timedelta() method\n",
    "\n",
    "from datetime import date\n",
    "from datetime import datetime\n",
    "from dateutil import parser\n",
    "\n",
    "\n",
    "date1 = str(input(\"Enter date1 in yyyy-dd-mm hh:mm:ss: \"))\n",
    "date_str1=datetime.strptime(date1,\"%Y-%m-%d %H:%M:%S\")\n",
    "print(date_str1)\n",
    "date2 = str(input(\"Enter date2 in yyyy-dd-mm hh:mm:ss: \"))\n",
    "date_str2=datetime.strptime(date2,\"%Y-%m-%d %H:%M:%S\")\n",
    "print(date_str2)\n",
    "\n",
    "c=date_str2-date_str1\n",
    "\n",
    "print(c)\n",
    "\n",
    "\n",
    "#output:\n",
    "# Enter date1 in yyyy-dd-mm hh:mm:ss: 2012-01-01 01:00:00\n",
    "# 2012-01-01 01:00:00\n",
    "# Enter date2 in yyyy-dd-mm hh:mm:ss: 2012-12-31 11:00:12\n",
    "# 2012-12-31 11:00:12\n",
    "# 365 days, 10:00:12"
   ]
  },
  {
   "cell_type": "code",
   "execution_count": 28,
   "id": "8e004275",
   "metadata": {},
   "outputs": [
    {
     "name": "stdout",
     "output_type": "stream",
     "text": [
      "[(0, 'B'), (1, 'C'), (2, 'A')]\n",
      "[('A', 2), ('B', 0), ('C', 1)]\n",
      "[('Billy', 0, 'Aaaan'), ('Arti', 2, 'Bill'), ('Aanjali', 1, 'Catty')]\n",
      "[('Billy', 0, 'Aaaan'), ('Arti', 2, 'Bill'), ('Aanjali', 1, 'Catty')]\n"
     ]
    }
   ],
   "source": [
    "\n",
    "#Sorted Function example on tuple \n",
    "a=((2,\"A\"),(1,\"C\"),(0,\"B\"))\n",
    "b=((\"A\",2),(\"C\",1),(\"B\",0))\n",
    "c=((\"Arti\",2,\"Bill\"),(\"Aanjali\",1,\"Catty\"),(\"Billy\",0,\"Aaaan\"))\n",
    "d=((\"Arti\",2,\"Bill\"),(\"Aanjali\",1,\"Catty\"),(\"Billy\",0,\"Aaaan\"))\n",
    "asort=sorted(a)\n",
    "bsort=sorted(b)\n",
    "csort=sorted(c,reverse=True) # by default sorting on the basis of first value \n",
    "dsort=sorted(d,key=lambda x:x[2]) #use lamba function and key to sort tuple or list according to indexes\n",
    "             \n",
    "print(asort)\n",
    "print(bsort)\n",
    "print(csort)\n",
    "print(dsort)\n"
   ]
  },
  {
   "cell_type": "code",
   "execution_count": 31,
   "id": "743e3555",
   "metadata": {},
   "outputs": [
    {
     "name": "stdout",
     "output_type": "stream",
     "text": [
      "New Tuple with cube values are  [(1, 1), (2, 8), (3, 27), (4, 64), (5, 125)]\n"
     ]
    }
   ],
   "source": [
    "# Python program to create a list of tuples from given list having number and its cube in each tuple\n",
    "# Example:\n",
    "\n",
    "# Input: list = [1, 2, 3]\n",
    "# Output: [(1, 1), (2, 8), (3, 27)]\n",
    "\n",
    "# Input: list = [9, 5, 6]\n",
    "# Output: [(9, 729), (5, 125), (6, 216)]\n",
    "\n",
    "list1=[1,2,3,4,5]\n",
    "res=[(val,pow(val,3)) for val in list1]\n",
    "print(\"New Tuple with cube values are \",res)\n",
    "\n",
    "#output \n",
    "#New Tuple with cube values are  [(1, 1), (2, 8), (3, 27), (4, 64), (5, 125)]"
   ]
  },
  {
   "cell_type": "code",
   "execution_count": 33,
   "id": "d127fc29",
   "metadata": {},
   "outputs": [
    {
     "name": "stdout",
     "output_type": "stream",
     "text": [
      "List of tuples by second Item is: [('Geeks', 8), ('for', 24), ('Geeks', 30)]\n"
     ]
    }
   ],
   "source": [
    "#Python program to sort a list of tuples by second Item\n",
    "#Example\n",
    "# Input : [('for', 24), ('Geeks', 8), ('Geeks', 30)] \n",
    "# Output : [('Geeks', 8), ('for', 24), ('Geeks', 30)]\n",
    "\n",
    "tuple1=(('for', 24), ('Geeks', 8), ('Geeks', 30))\n",
    "tuple1_res=sorted(tuple1,key=lambda x:x[1])\n",
    "\n",
    "print(\"List of tuples by second Item is:\" ,tuple1_res)\n",
    "\n"
   ]
  },
  {
   "cell_type": "code",
   "execution_count": 36,
   "id": "ca15d993",
   "metadata": {},
   "outputs": [
    {
     "name": "stdout",
     "output_type": "stream",
     "text": [
      "Sorted tuple by alpabetical order:\n",
      " [('Abhishek', 29), ('Amana', 28), ('B', 'C'), ('Nikhil', 21), ('Zenat', 30)]\n"
     ]
    }
   ],
   "source": [
    "#Python program to sort a list of tuples alphabetically\n",
    "#Input: [(\"Amana\", 28), (\"Zenat\", 30), (\"Abhishek\", 29), (\"Nikhil\", 21), (\"B\", \"C\")]\n",
    "#Output:[('Abhishek', 29), ('Amana', 28), ('B', 'C'), ('Nikhil', 21), ('Zenat', 30)]\n",
    "\n",
    "tuple1=[(\"Amana\", 28), (\"Zenat\", 30), (\"Abhishek\", 29), (\"Nikhil\", 21), (\"B\", \"C\")]\n",
    "sort_tuple1=sorted(tuple1)\n",
    "print(\"Sorted tuple by alpabetical order:\\n\", sort_tuple1)\n",
    "\n",
    "#output : \n",
    "# Sorted tuple by alpabetical order:\n",
    "#  [('Abhishek', 29), ('Amana', 28), ('B', 'C'), ('Nikhil', 21), ('Zenat', 30)]"
   ]
  },
  {
   "cell_type": "code",
   "execution_count": null,
   "id": "ad68fce9",
   "metadata": {},
   "outputs": [],
   "source": []
  }
 ],
 "metadata": {
  "kernelspec": {
   "display_name": "Python 3 (ipykernel)",
   "language": "python",
   "name": "python3"
  },
  "language_info": {
   "codemirror_mode": {
    "name": "ipython",
    "version": 3
   },
   "file_extension": ".py",
   "mimetype": "text/x-python",
   "name": "python",
   "nbconvert_exporter": "python",
   "pygments_lexer": "ipython3",
   "version": "3.9.7"
  }
 },
 "nbformat": 4,
 "nbformat_minor": 5
}
